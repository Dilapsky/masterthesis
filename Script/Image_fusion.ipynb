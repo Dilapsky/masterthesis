{
 "cells": [
  {
   "cell_type": "code",
   "execution_count": 1,
   "metadata": {},
   "outputs": [],
   "source": [
    "from skimage.transform import resize\n",
    "import skimage.io as io\n",
    "from PIL import Image\n",
    "import numpy as np\n",
    "import os\n",
    "import matplotlib.pyplot as plt\n",
    "import time,datetime"
   ]
  },
  {
   "cell_type": "code",
   "execution_count": 10,
   "metadata": {},
   "outputs": [],
   "source": [
    "geodir = 'D:/Study/Master Thesis/Thesis/Data/Phase1_result/Geo_Pic'\n",
    "roaddir = 'D:/Study/Master Thesis/Thesis/Data/Phase1_result/Roadmap_Pic'\n",
    "trajectorydir = 'D:/Study/Master Thesis/Thesis/Data/Phase1_result/Trajectory_Pic/101112'\n",
    "picturedir = '../Data/Phase1_result/Total_Pic'\n",
    "initial_time = 1539231000\n"
   ]
  },
  {
   "cell_type": "code",
   "execution_count": 50,
   "metadata": {},
   "outputs": [
    {
     "data": {
      "text/plain": [
       "13.0"
      ]
     },
     "execution_count": 50,
     "metadata": {},
     "output_type": "execute_result"
    }
   ],
   "source": [
    "#936/72\n"
   ]
  },
  {
   "cell_type": "code",
   "execution_count": 11,
   "metadata": {},
   "outputs": [
    {
     "name": "stdout",
     "output_type": "stream",
     "text": [
      "(768, 896)\n",
      "Finished:  0\n",
      "Finished:  1\n",
      "Finished:  2\n",
      "Finished:  3\n",
      "Finished:  4\n",
      "Finished:  5\n",
      "Finished:  6\n",
      "Finished:  7\n",
      "Finished:  8\n",
      "Finished:  9\n",
      "Finished:  10\n",
      "Finished:  11\n",
      "Finished:  12\n",
      "Finished:  13\n",
      "Finished:  14\n",
      "Finished:  15\n",
      "Finished:  16\n",
      "Finished:  17\n",
      "Finished:  18\n",
      "Finished:  19\n",
      "Finished:  20\n",
      "Finished:  21\n",
      "Finished:  22\n",
      "Finished:  23\n",
      "Finished:  24\n",
      "Finished:  25\n",
      "Finished:  26\n",
      "Finished:  27\n",
      "Finished:  28\n",
      "Finished:  29\n",
      "Finished:  30\n",
      "Finished:  31\n",
      "Finished:  32\n",
      "Finished:  33\n",
      "Finished:  34\n",
      "Finished:  35\n",
      "Finished:  36\n",
      "Finished:  37\n",
      "Finished:  38\n",
      "Finished:  39\n",
      "Finished:  40\n",
      "Finished:  41\n",
      "Finished:  42\n",
      "Finished:  43\n",
      "Finished:  44\n",
      "Finished:  45\n",
      "Finished:  46\n",
      "Finished:  47\n",
      "Finished:  48\n",
      "Finished:  49\n",
      "Finished:  50\n",
      "Finished:  51\n",
      "Finished:  52\n",
      "Finished:  53\n",
      "Finished:  54\n",
      "Finished:  55\n",
      "Finished:  56\n",
      "Finished:  57\n",
      "Finished:  58\n",
      "Finished:  59\n",
      "Finished:  60\n",
      "Finished:  61\n",
      "Finished:  62\n",
      "Finished:  63\n",
      "Finished:  64\n",
      "Finished:  65\n",
      "Finished:  66\n",
      "Finished:  67\n",
      "Finished:  68\n",
      "Finished:  69\n",
      "Finished:  70\n",
      "Finished:  71\n"
     ]
    }
   ],
   "source": [
    "geoimg = Image.open(os.path.join(geodir,'geo_data3.PNG')).convert(\"L\")\n",
    "geoig = np.array(geoimg)\n",
    "dst=255*resize(geoig, (768, 896))\n",
    "geoig = dst.astype(np.uint8)#[64:896,:]\n",
    "print(np.shape(geoig))\n",
    "for s in range(72):\n",
    "    nowtime = initial_time + s*600\n",
    "    timeArray = time.localtime(nowtime)\n",
    "    otherStyleTime1 = time.strftime(\"%Y_%m_%d_%H_%M_%S\",timeArray)\n",
    "    otherStyleTime2 = time.strftime(\"%Y-%m-%d-%H-%M-%S\",timeArray)\n",
    "    otherStyleTime3 = time.strftime(\"%Y_%m_%d-%H-%M-%S\",timeArray)\n",
    "    roadstr = str(otherStyleTime2)+'.png'\n",
    "    trajectorystr = str(otherStyleTime1)+'.png'\n",
    "    picturestr = str(otherStyleTime3)+'.png'\n",
    "  #  print('trajectorystr: ',trajectorystr)\n",
    "    roadimg = Image.open(os.path.join(roaddir,roadstr)).convert(\"L\")\n",
    "    roadig = np.array(roadimg)\n",
    "    trajectoryimg = Image.open(os.path.join(trajectorydir,trajectorystr)).convert(\"L\")\n",
    "    trajectoryig = np.array(trajectoryimg)\n",
    "    picig = np.dstack((geoig,trajectoryig,roadig))\n",
    "    picture = Image.fromarray(picig)\n",
    "    picture.save(os.path.join(picturedir,picturestr))\n",
    "    print('Finished: ',s)"
   ]
  },
  {
   "cell_type": "code",
   "execution_count": 28,
   "metadata": {},
   "outputs": [],
   "source": []
  }
 ],
 "metadata": {
  "kernelspec": {
   "display_name": "Python 3",
   "language": "python",
   "name": "python3"
  },
  "language_info": {
   "codemirror_mode": {
    "name": "ipython",
    "version": 3
   },
   "file_extension": ".py",
   "mimetype": "text/x-python",
   "name": "python",
   "nbconvert_exporter": "python",
   "pygments_lexer": "ipython3",
   "version": "3.7.3"
  }
 },
 "nbformat": 4,
 "nbformat_minor": 4
}
